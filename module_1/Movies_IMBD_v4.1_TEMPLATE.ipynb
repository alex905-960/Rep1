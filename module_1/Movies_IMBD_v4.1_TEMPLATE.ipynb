{
 "cells": [
  {
   "cell_type": "code",
   "execution_count": 1,
   "metadata": {
    "_cell_guid": "b1076dfc-b9ad-4769-8c92-a6c4dae69d19",
    "_uuid": "8f2839f25d086af736a60e9eeb907d3b93b6e0e5",
    "colab": {},
    "colab_type": "code",
    "id": "U2D2gTdJVp90"
   },
   "outputs": [],
   "source": [
    "import numpy as np\n",
    "import pandas as pd\n",
    "import seaborn as sns\n",
    "import datetime as dt\n",
    "import matplotlib.pyplot as plt\n",
    "import collections\n",
    "from collections import Counter"
   ]
  },
  {
   "cell_type": "code",
   "execution_count": 2,
   "metadata": {
    "_cell_guid": "79c7e3d0-c299-4dcb-8224-4455121ee9b0",
    "_uuid": "d629ff2d2480ee46fbb7e2d37f6b5fab8052498a",
    "colab": {},
    "colab_type": "code",
    "id": "oyGfxL3eVp9-"
   },
   "outputs": [
    {
     "name": "stderr",
     "output_type": "stream",
     "text": [
      "<ipython-input-2-75ce2aad8200>:12: DeprecationWarning: The default dtype for empty Series will be 'object' instead of 'float64' in a future version. Specify a dtype explicitly to silence this warning.\n",
      "  series1 = pd.Series() # Серия для подсчета количества или величины для полей, имеющих несколько значений\n"
     ]
    },
    {
     "data": {
      "text/html": [
       "<div>\n",
       "<style scoped>\n",
       "    .dataframe tbody tr th:only-of-type {\n",
       "        vertical-align: middle;\n",
       "    }\n",
       "\n",
       "    .dataframe tbody tr th {\n",
       "        vertical-align: top;\n",
       "    }\n",
       "\n",
       "    .dataframe thead th {\n",
       "        text-align: right;\n",
       "    }\n",
       "</style>\n",
       "<table border=\"1\" class=\"dataframe\">\n",
       "  <thead>\n",
       "    <tr style=\"text-align: right;\">\n",
       "      <th></th>\n",
       "      <th>imdb_id</th>\n",
       "      <th>budget</th>\n",
       "      <th>revenue</th>\n",
       "      <th>original_title</th>\n",
       "      <th>cast</th>\n",
       "      <th>director</th>\n",
       "      <th>tagline</th>\n",
       "      <th>overview</th>\n",
       "      <th>runtime</th>\n",
       "      <th>genres</th>\n",
       "      <th>production_companies</th>\n",
       "      <th>release_date</th>\n",
       "      <th>vote_average</th>\n",
       "      <th>release_year</th>\n",
       "      <th>profit</th>\n",
       "    </tr>\n",
       "  </thead>\n",
       "  <tbody>\n",
       "    <tr>\n",
       "      <th>0</th>\n",
       "      <td>tt0369610</td>\n",
       "      <td>150000000</td>\n",
       "      <td>1513528810</td>\n",
       "      <td>Jurassic World</td>\n",
       "      <td>Chris Pratt|Bryce Dallas Howard|Irrfan Khan|Vi...</td>\n",
       "      <td>Colin Trevorrow</td>\n",
       "      <td>The park is open.</td>\n",
       "      <td>Twenty-two years after the events of Jurassic ...</td>\n",
       "      <td>124</td>\n",
       "      <td>Action|Adventure|Science Fiction|Thriller</td>\n",
       "      <td>Universal Studios|Amblin Entertainment|Legenda...</td>\n",
       "      <td>6/9/2015</td>\n",
       "      <td>6.5</td>\n",
       "      <td>2015</td>\n",
       "      <td>1363528810</td>\n",
       "    </tr>\n",
       "    <tr>\n",
       "      <th>1</th>\n",
       "      <td>tt1392190</td>\n",
       "      <td>150000000</td>\n",
       "      <td>378436354</td>\n",
       "      <td>Mad Max: Fury Road</td>\n",
       "      <td>Tom Hardy|Charlize Theron|Hugh Keays-Byrne|Nic...</td>\n",
       "      <td>George Miller</td>\n",
       "      <td>What a Lovely Day.</td>\n",
       "      <td>An apocalyptic story set in the furthest reach...</td>\n",
       "      <td>120</td>\n",
       "      <td>Action|Adventure|Science Fiction|Thriller</td>\n",
       "      <td>Village Roadshow Pictures|Kennedy Miller Produ...</td>\n",
       "      <td>5/13/2015</td>\n",
       "      <td>7.1</td>\n",
       "      <td>2015</td>\n",
       "      <td>228436354</td>\n",
       "    </tr>\n",
       "  </tbody>\n",
       "</table>\n",
       "</div>"
      ],
      "text/plain": [
       "     imdb_id     budget     revenue      original_title  \\\n",
       "0  tt0369610  150000000  1513528810      Jurassic World   \n",
       "1  tt1392190  150000000   378436354  Mad Max: Fury Road   \n",
       "\n",
       "                                                cast         director  \\\n",
       "0  Chris Pratt|Bryce Dallas Howard|Irrfan Khan|Vi...  Colin Trevorrow   \n",
       "1  Tom Hardy|Charlize Theron|Hugh Keays-Byrne|Nic...    George Miller   \n",
       "\n",
       "              tagline                                           overview  \\\n",
       "0   The park is open.  Twenty-two years after the events of Jurassic ...   \n",
       "1  What a Lovely Day.  An apocalyptic story set in the furthest reach...   \n",
       "\n",
       "   runtime                                     genres  \\\n",
       "0      124  Action|Adventure|Science Fiction|Thriller   \n",
       "1      120  Action|Adventure|Science Fiction|Thriller   \n",
       "\n",
       "                                production_companies release_date  \\\n",
       "0  Universal Studios|Amblin Entertainment|Legenda...     6/9/2015   \n",
       "1  Village Roadshow Pictures|Kennedy Miller Produ...    5/13/2015   \n",
       "\n",
       "   vote_average  release_year      profit  \n",
       "0           6.5          2015  1363528810  \n",
       "1           7.1          2015   228436354  "
      ]
     },
     "execution_count": 2,
     "metadata": {},
     "output_type": "execute_result"
    }
   ],
   "source": [
    "data = pd.read_csv('movie_bd_v5.csv') # чтение данных\n"
   ]
  },
  {
   "cell_type": "code",
   "execution_count": 3,
   "metadata": {
    "colab": {},
    "colab_type": "code",
    "id": "CoYUnagMVp-C"
   },
   "outputs": [
    {
     "data": {
      "text/html": [
       "<div>\n",
       "<style scoped>\n",
       "    .dataframe tbody tr th:only-of-type {\n",
       "        vertical-align: middle;\n",
       "    }\n",
       "\n",
       "    .dataframe tbody tr th {\n",
       "        vertical-align: top;\n",
       "    }\n",
       "\n",
       "    .dataframe thead th {\n",
       "        text-align: right;\n",
       "    }\n",
       "</style>\n",
       "<table border=\"1\" class=\"dataframe\">\n",
       "  <thead>\n",
       "    <tr style=\"text-align: right;\">\n",
       "      <th></th>\n",
       "      <th>budget</th>\n",
       "      <th>revenue</th>\n",
       "      <th>runtime</th>\n",
       "      <th>vote_average</th>\n",
       "      <th>release_year</th>\n",
       "      <th>profit</th>\n",
       "    </tr>\n",
       "  </thead>\n",
       "  <tbody>\n",
       "    <tr>\n",
       "      <th>count</th>\n",
       "      <td>1.889000e+03</td>\n",
       "      <td>1.889000e+03</td>\n",
       "      <td>1889.000000</td>\n",
       "      <td>1889.000000</td>\n",
       "      <td>1889.000000</td>\n",
       "      <td>1.889000e+03</td>\n",
       "    </tr>\n",
       "    <tr>\n",
       "      <th>mean</th>\n",
       "      <td>5.431083e+07</td>\n",
       "      <td>1.553653e+08</td>\n",
       "      <td>109.658549</td>\n",
       "      <td>6.140762</td>\n",
       "      <td>2007.860773</td>\n",
       "      <td>1.010545e+08</td>\n",
       "    </tr>\n",
       "    <tr>\n",
       "      <th>std</th>\n",
       "      <td>4.858721e+07</td>\n",
       "      <td>2.146698e+08</td>\n",
       "      <td>18.017041</td>\n",
       "      <td>0.764763</td>\n",
       "      <td>4.468841</td>\n",
       "      <td>1.830733e+08</td>\n",
       "    </tr>\n",
       "    <tr>\n",
       "      <th>min</th>\n",
       "      <td>5.000000e+06</td>\n",
       "      <td>2.033165e+06</td>\n",
       "      <td>63.000000</td>\n",
       "      <td>3.300000</td>\n",
       "      <td>2000.000000</td>\n",
       "      <td>-1.657101e+08</td>\n",
       "    </tr>\n",
       "    <tr>\n",
       "      <th>25%</th>\n",
       "      <td>2.000000e+07</td>\n",
       "      <td>3.456058e+07</td>\n",
       "      <td>97.000000</td>\n",
       "      <td>5.600000</td>\n",
       "      <td>2004.000000</td>\n",
       "      <td>5.000000e+06</td>\n",
       "    </tr>\n",
       "    <tr>\n",
       "      <th>50%</th>\n",
       "      <td>3.800000e+07</td>\n",
       "      <td>8.361541e+07</td>\n",
       "      <td>107.000000</td>\n",
       "      <td>6.100000</td>\n",
       "      <td>2008.000000</td>\n",
       "      <td>4.400041e+07</td>\n",
       "    </tr>\n",
       "    <tr>\n",
       "      <th>75%</th>\n",
       "      <td>7.200000e+07</td>\n",
       "      <td>1.782626e+08</td>\n",
       "      <td>120.000000</td>\n",
       "      <td>6.600000</td>\n",
       "      <td>2012.000000</td>\n",
       "      <td>1.201842e+08</td>\n",
       "    </tr>\n",
       "    <tr>\n",
       "      <th>max</th>\n",
       "      <td>3.800000e+08</td>\n",
       "      <td>2.781506e+09</td>\n",
       "      <td>214.000000</td>\n",
       "      <td>8.100000</td>\n",
       "      <td>2015.000000</td>\n",
       "      <td>2.544506e+09</td>\n",
       "    </tr>\n",
       "  </tbody>\n",
       "</table>\n",
       "</div>"
      ],
      "text/plain": [
       "             budget       revenue      runtime  vote_average  release_year  \\\n",
       "count  1.889000e+03  1.889000e+03  1889.000000   1889.000000   1889.000000   \n",
       "mean   5.431083e+07  1.553653e+08   109.658549      6.140762   2007.860773   \n",
       "std    4.858721e+07  2.146698e+08    18.017041      0.764763      4.468841   \n",
       "min    5.000000e+06  2.033165e+06    63.000000      3.300000   2000.000000   \n",
       "25%    2.000000e+07  3.456058e+07    97.000000      5.600000   2004.000000   \n",
       "50%    3.800000e+07  8.361541e+07   107.000000      6.100000   2008.000000   \n",
       "75%    7.200000e+07  1.782626e+08   120.000000      6.600000   2012.000000   \n",
       "max    3.800000e+08  2.781506e+09   214.000000      8.100000   2015.000000   \n",
       "\n",
       "             profit  \n",
       "count  1.889000e+03  \n",
       "mean   1.010545e+08  \n",
       "std    1.830733e+08  \n",
       "min   -1.657101e+08  \n",
       "25%    5.000000e+06  \n",
       "50%    4.400041e+07  \n",
       "75%    1.201842e+08  \n",
       "max    2.544506e+09  "
      ]
     },
     "execution_count": 3,
     "metadata": {},
     "output_type": "execute_result"
    }
   ],
   "source": [
    "data.describe()"
   ]
  },
  {
   "cell_type": "markdown",
   "metadata": {
    "colab_type": "text",
    "id": "DTIt7ezGVp-G"
   },
   "source": [
    "# Предобработка"
   ]
  },
  {
   "cell_type": "code",
   "execution_count": 48,
   "metadata": {
    "colab": {},
    "colab_type": "code",
    "id": "jNb40DwKVp-H"
   },
   "outputs": [
    {
     "name": "stderr",
     "output_type": "stream",
     "text": [
      "<ipython-input-48-b20cc5aede42>:18: DeprecationWarning: The default dtype for empty Series will be 'object' instead of 'float64' in a future version. Specify a dtype explicitly to silence this warning.\n",
      "  series1 = pd.Series() # Серия для подсчета количества или величины для полей, имеющих несколько значений\n"
     ]
    }
   ],
   "source": [
    "answers = {} # создадим словарь для ответов\n",
    "\n",
    "data['profit'] = data['revenue'] - data['budget'] # вычислени прибыли\n",
    "\n",
    "# подготовка жанров\n",
    "genres_list  = data['genres'].tolist() # список жанров с повторами\n",
    "all_genres = '|'.join(genres_list).split('|') #создание списка из всех жанров всех фильмов\n",
    "s_genres = pd.Series(all_genres) #перевод в серию всех повторов жанров для подсчета\n",
    "genres_list_u = s_genres.unique().tolist() #список всех видов жанров (уникальных)\n",
    "df_genres = pd.DataFrame({'genres' : genres_list_u}) # dataframe всех жанров\n",
    "\n",
    "# подготовка режиссеров\n",
    "director_list = data['director'].tolist()\n",
    "all_directors = '|'.join(director_list).split('|') #создание списка из всех режисеров всех фильмов\n",
    "director_list_u = pd.Series(all_directors).unique().tolist() # список всех режиссеров\n",
    "df_dir = pd.DataFrame({'director' : director_list_u}) # dataframe всех режисеров\n",
    "\n",
    "series1 = pd.Series() # Серия для подсчета количества или величины для полей, имеющих несколько значений\n",
    "\n",
    "# Универсальная функция подсчета колиества для полей с несколькими значениями\n",
    "def col_counter(col):\n",
    "    for s in col.split('|'):\n",
    "        if s in series1:\n",
    "            series1[s] += 1\n",
    "        else:\n",
    "            series1[s] = int(1)\n",
    "\n",
    "# Универсальная функция суммирования параметра для полей с несколькими значениями\n",
    "def col_summ(col,param):\n",
    "    for s in col.split('|'):\n",
    "        if s in series1:\n",
    "            series1[s] += param\n",
    "        else:\n",
    "            series1[s] = float(param)\n",
    "\n",
    "# Функция сортировки и возврата первого/последнего значения/индекса\n",
    "def get_first_frequant_data(is_higher,is_value):\n",
    "    if is_higher==False:\n",
    "        series1.sort_values(ascending=True,inplace=True)\n",
    "    else:\n",
    "        series1.sort_values(ascending=False,inplace=True)\n",
    "    if is_value==True:\n",
    "        return series1[0]\n",
    "    else:\n",
    "        return series1.index[0]"
   ]
  },
  {
   "cell_type": "markdown",
   "metadata": {
    "colab_type": "text",
    "id": "YxZaH-nPVp-L"
   },
   "source": [
    "# 1. У какого фильма из списка самый большой бюджет?"
   ]
  },
  {
   "cell_type": "markdown",
   "metadata": {
    "colab_type": "text",
    "id": "Nd-G5gX6Vp-M"
   },
   "source": [
    "Использовать варианты ответов в коде решения запрещено.    \n",
    "Вы думаете и в жизни у вас будут варианты ответов?)"
   ]
  },
  {
   "cell_type": "code",
   "execution_count": 5,
   "metadata": {
    "colab": {},
    "colab_type": "code",
    "id": "uVnXAY5RVp-O"
   },
   "outputs": [],
   "source": [
    "# в словарь вставляем номер вопроса и ваш ответ на него\n",
    "# Пример: \n",
    "answers['1'] = 'Pirates of the Caribbean: On Stranger Tides (tt1298650)'\n",
    "# запишите свой вариант ответа\n",
    "\n",
    "# если ответили верно, можете добавить комментарий со значком \"+\""
   ]
  },
  {
   "cell_type": "code",
   "execution_count": 6,
   "metadata": {
    "colab": {},
    "colab_type": "code",
    "id": "dZwb3m28Vp-S"
   },
   "outputs": [],
   "source": [
    "# тут пишем ваш код для решения данного вопроса:\n",
    "answers['1'] = (str(data.query('budget==' + \n",
    "            str(data.budget.max())).original_title.iloc[0]) + \n",
    "            ' ('+str(data.query('budget==' + \n",
    "            str(data.budget.max())).imdb_id.iloc[0]) + ')')"
   ]
  },
  {
   "cell_type": "code",
   "execution_count": null,
   "metadata": {},
   "outputs": [],
   "source": []
  },
  {
   "cell_type": "markdown",
   "metadata": {
    "colab_type": "text",
    "id": "K7L3nbRXVp-X"
   },
   "source": [
    "ВАРИАНТ 2"
   ]
  },
  {
   "cell_type": "code",
   "execution_count": 7,
   "metadata": {
    "colab": {},
    "colab_type": "code",
    "id": "OGaoQI7rVp-X"
   },
   "outputs": [],
   "source": [
    "# можно добавлять разные варианты решения"
   ]
  },
  {
   "cell_type": "markdown",
   "metadata": {
    "colab_type": "text",
    "id": "FNRbbI3vVp-c"
   },
   "source": [
    "# 2. Какой из фильмов самый длительный (в минутах)?"
   ]
  },
  {
   "cell_type": "code",
   "execution_count": 8,
   "metadata": {
    "colab": {},
    "colab_type": "code",
    "id": "vHAoEXNTVp-d"
   },
   "outputs": [],
   "source": [
    "# думаю логику работы с этим словарем вы уже поняли, \n",
    "# по этому не буду больше его дублировать\n",
    "answers['2'] = 'Gods and Generals (tt0279111)'\n",
    "\n",
    "answers['2'] = (str(data.query('runtime==' + \n",
    "            str(data.runtime.max())).original_title.iloc[0]) + \n",
    "            ' ('+str(data.query('runtime==' + \n",
    "            str(data.runtime.max())).imdb_id.iloc[0]) + ')')"
   ]
  },
  {
   "cell_type": "markdown",
   "metadata": {
    "colab_type": "text",
    "id": "bapLlpW8Vp-k"
   },
   "source": [
    "# 3. Какой из фильмов самый короткий (в минутах)?\n"
   ]
  },
  {
   "cell_type": "code",
   "execution_count": 9,
   "metadata": {
    "colab": {},
    "colab_type": "code",
    "id": "YBxaSHuAVp-l"
   },
   "outputs": [],
   "source": [
    "answers['3'] = 'Winnie the Pooh (tt1449283)'\n",
    "answers['3'] = (str(data.query('runtime==' + \n",
    "            str(data.runtime.min())).original_title.iloc[0]) + \n",
    "            ' ('+str(data.query('runtime==' + \n",
    "            str(data.runtime.min())).imdb_id.iloc[0]) + ')')"
   ]
  },
  {
   "cell_type": "markdown",
   "metadata": {
    "colab_type": "text",
    "id": "TfQbxbfNVp-p"
   },
   "source": [
    "# 4. Какова средняя длительность фильмов?\n"
   ]
  },
  {
   "cell_type": "code",
   "execution_count": 10,
   "metadata": {
    "colab": {},
    "colab_type": "code",
    "id": "5K6dKZYVVp-q"
   },
   "outputs": [],
   "source": [
    "answers['4'] = 110\n",
    "answers['4'] = str(round(data.runtime.mean()/5)*5)"
   ]
  },
  {
   "cell_type": "markdown",
   "metadata": {
    "colab_type": "text",
    "id": "r5TvbnT_Vp-u"
   },
   "source": [
    "# 5. Каково медианное значение длительности фильмов? "
   ]
  },
  {
   "cell_type": "code",
   "execution_count": 11,
   "metadata": {
    "colab": {},
    "colab_type": "code",
    "id": "iBROplKnVp-v"
   },
   "outputs": [],
   "source": [
    "answers['5'] = 107.0\n",
    "answers['5'] = str(data.runtime.median())"
   ]
  },
  {
   "cell_type": "markdown",
   "metadata": {
    "colab_type": "text",
    "id": "39P-deDSVp-y"
   },
   "source": [
    "# 6. Какой самый прибыльный фильм?\n",
    "#### Внимание! Здесь и далее под «прибылью» или «убытками» понимается разность между сборами и бюджетом фильма. (прибыль = сборы - бюджет) в нашем датасете это будет (profit = revenue - budget) "
   ]
  },
  {
   "cell_type": "code",
   "execution_count": 12,
   "metadata": {
    "colab": {},
    "colab_type": "code",
    "id": "UYZh4T9WVp-y"
   },
   "outputs": [],
   "source": [
    "# лучше код получения столбца profit вынести в Предобработку что в начале\n",
    "answers['6'] = 'Avatar (tt0499549)'\n",
    "answers['6'] = (str(data.query('profit==' + \n",
    "            str(data.profit.max())).original_title.iloc[0]) + \n",
    "            ' ('+str(data.query('profit==' + \n",
    "            str(data.profit.max())).imdb_id.iloc[0]) + ')')"
   ]
  },
  {
   "cell_type": "markdown",
   "metadata": {
    "colab_type": "text",
    "id": "M99JmIX4Vp-2"
   },
   "source": [
    "# 7. Какой фильм самый убыточный? "
   ]
  },
  {
   "cell_type": "code",
   "execution_count": 13,
   "metadata": {
    "colab": {},
    "colab_type": "code",
    "id": "w-D2m4XPVp-3"
   },
   "outputs": [],
   "source": [
    "answers['7'] = 'The Lone Ranger (tt1210819)'\n",
    "answers['7'] = (str(data.query('profit==' + \n",
    "            str(data.profit.min())).original_title.iloc[0]) + \n",
    "            ' ('+str(data.query('profit==' + \n",
    "            str(data.profit.min())).imdb_id.iloc[0]) + ')')"
   ]
  },
  {
   "cell_type": "markdown",
   "metadata": {
    "colab_type": "text",
    "id": "wEOM5ERVVp-6"
   },
   "source": [
    "# 8. У скольких фильмов из датасета объем сборов оказался выше бюджета?"
   ]
  },
  {
   "cell_type": "code",
   "execution_count": 14,
   "metadata": {
    "colab": {},
    "colab_type": "code",
    "id": "y00_7HD6Vp-7"
   },
   "outputs": [],
   "source": [
    "answers['8'] = 1478\n",
    "answers['8'] = str(data[data.profit > 0].imdb_id.count())"
   ]
  },
  {
   "cell_type": "markdown",
   "metadata": {
    "colab_type": "text",
    "id": "xhpspA9KVp_A"
   },
   "source": [
    "# 9. Какой фильм оказался самым кассовым в 2008 году?"
   ]
  },
  {
   "cell_type": "code",
   "execution_count": 15,
   "metadata": {
    "colab": {},
    "colab_type": "code",
    "id": "MoUyQr9RVp_B"
   },
   "outputs": [],
   "source": [
    "answers['9'] = 'The Dark Knight (tt0468569)'\n",
    "maxRev2008 = data.query('release_year==2008').revenue.max() # фильтрация и агрегация\n",
    "mr2008 = data[(data.release_year==2008) & (data.revenue==maxRev2008)].iloc[0]\n",
    "answers['9'] = str(mr2008.original_title) + ' (' + str(mr2008.imdb_id) + ')'"
   ]
  },
  {
   "cell_type": "markdown",
   "metadata": {
    "colab_type": "text",
    "id": "Zi4hDKidVp_F"
   },
   "source": [
    "# 10. Самый убыточный фильм за период с 2012 по 2014 г. (включительно)?\n"
   ]
  },
  {
   "cell_type": "code",
   "execution_count": 16,
   "metadata": {
    "colab": {},
    "colab_type": "code",
    "id": "XqyRmufJVp_F"
   },
   "outputs": [],
   "source": [
    "answers['10'] = 'The Lone Ranger (tt1210819)'\n",
    "# фильтрация разными способами\n",
    "minProf2012_2014 = data.query('release_year>=2012 & release_year<=2014').profit.min()\n",
    "mr2012_2014 = data[(data.release_year>=2012) & (data.release_year<=2014) & \n",
    "                   (data.profit==minProf2012_2014)].iloc[0]\n",
    "answers['10'] = str(mr2012_2014.original_title) + ' (' + str(mr2012_2014.imdb_id) + ')'"
   ]
  },
  {
   "cell_type": "markdown",
   "metadata": {
    "colab_type": "text",
    "id": "EA7Sa9dkVp_I"
   },
   "source": [
    "# 11. Какого жанра фильмов больше всего?"
   ]
  },
  {
   "cell_type": "code",
   "execution_count": 17,
   "metadata": {
    "colab": {},
    "colab_type": "code",
    "id": "zsJAwJ8QVp_J"
   },
   "outputs": [],
   "source": [
    "# эту задачу тоже можно решать разными подходами, попробуй реализовать разные варианты\n",
    "# если будешь добавлять функцию - выноси ее в предобработку что в начале\n",
    "answers['11'] = 'Drama'\n",
    "stat_genres = s_genres.value_counts() # подсчет всех жанров (повторений)\n",
    "stat_genres.index[0] \n",
    "answers['11'] = stat_genres.index[0]"
   ]
  },
  {
   "cell_type": "markdown",
   "metadata": {
    "colab_type": "text",
    "id": "Ax6g2C8SVp_M"
   },
   "source": [
    "ВАРИАНТ 2\n"
   ]
  },
  {
   "cell_type": "code",
   "execution_count": 18,
   "metadata": {
    "colab": {},
    "colab_type": "code",
    "id": "otO3SbrSVp_N"
   },
   "outputs": [
    {
     "name": "stderr",
     "output_type": "stream",
     "text": [
      "<ipython-input-18-444dc2e92753>:1: DeprecationWarning: The default dtype for empty Series will be 'object' instead of 'float64' in a future version. Specify a dtype explicitly to silence this warning.\n",
      "  series1 = pd.Series() # Инициализация серии для подсчета\n"
     ]
    }
   ],
   "source": [
    "series1 = pd.Series() # Инициализация серии для подсчета\n",
    "data.apply(lambda row: col_counter(row['genres']) ,axis=1) # подсчет, только apply :(\n",
    "answers['11'] = get_first_frequant_data(True,False) # вывод ответа\n",
    "\n",
    "\n"
   ]
  },
  {
   "cell_type": "code",
   "execution_count": null,
   "metadata": {},
   "outputs": [],
   "source": []
  },
  {
   "cell_type": "markdown",
   "metadata": {
    "colab_type": "text",
    "id": "T9_bPWpkVp_Q"
   },
   "source": [
    "# 12. Фильмы какого жанра чаще всего становятся прибыльными? "
   ]
  },
  {
   "cell_type": "code",
   "execution_count": 19,
   "metadata": {
    "colab": {},
    "colab_type": "code",
    "id": "Tmt8MaK1Vp_R"
   },
   "outputs": [
    {
     "name": "stderr",
     "output_type": "stream",
     "text": [
      "<ipython-input-19-a760fe4be9f0>:2: DeprecationWarning: The default dtype for empty Series will be 'object' instead of 'float64' in a future version. Specify a dtype explicitly to silence this warning.\n",
      "  series1 = pd.Series() # Инициализация серии для подсчета\n"
     ]
    }
   ],
   "source": [
    "answers['12'] = 'Drama'\n",
    "series1 = pd.Series() # Инициализация серии для подсчета\n",
    "data[data.profit>0].apply(lambda row: col_counter(row['genres']) ,axis=1) # подсчет, только apply :(\n",
    "answers['12'] = get_first_frequant_data(True,False) # вывод ответа\n"
   ]
  },
  {
   "cell_type": "markdown",
   "metadata": {
    "colab_type": "text",
    "id": "0F23bgsDVp_U"
   },
   "source": [
    "# 13. У какого режиссера самые большие суммарные кассовые сбооры?"
   ]
  },
  {
   "cell_type": "code",
   "execution_count": 20,
   "metadata": {
    "colab": {},
    "colab_type": "code",
    "id": "K6Z3J8ygVp_X"
   },
   "outputs": [
    {
     "name": "stderr",
     "output_type": "stream",
     "text": [
      "<ipython-input-20-19af064c88b0>:2: DeprecationWarning: The default dtype for empty Series will be 'object' instead of 'float64' in a future version. Specify a dtype explicitly to silence this warning.\n",
      "  series1 = pd.Series() # Инициализация серии для подсчета\n"
     ]
    }
   ],
   "source": [
    "answers['13'] = 'Peter Jackson'\n",
    "series1 = pd.Series() # Инициализация серии для подсчета\n",
    "data.apply(lambda row: col_summ(row['director'],row['revenue']) ,axis=1) # подсчет, только apply :(\n",
    "answers['13'] = get_first_frequant_data(True,False) # вывод ответа\n",
    " "
   ]
  },
  {
   "cell_type": "markdown",
   "metadata": {
    "colab_type": "text",
    "id": "PsYC9FgRVp_a"
   },
   "source": [
    "# 14. Какой режисер снял больше всего фильмов в стиле Action?"
   ]
  },
  {
   "cell_type": "code",
   "execution_count": 21,
   "metadata": {
    "colab": {},
    "colab_type": "code",
    "id": "wd2M-wHeVp_b"
   },
   "outputs": [
    {
     "name": "stderr",
     "output_type": "stream",
     "text": [
      "<ipython-input-21-568b69905d87>:9: DeprecationWarning: The default dtype for empty Series will be 'object' instead of 'float64' in a future version. Specify a dtype explicitly to silence this warning.\n",
      "  series1 = pd.Series() # Инициализация серии для подсчета\n"
     ]
    }
   ],
   "source": [
    "\n",
    "answers['14'] = 'Robert Rodriguez'\n",
    "# функция выделения фильмов, у которых в тексте жанров есть Action\n",
    "def isAction (genres):\n",
    "    if genres.find('Action')!=-1:\n",
    "        return int(1)\n",
    "    else:\n",
    "        return int(0)\n",
    "# Добавляем столбец для фильтрации\n",
    "data['isAction'] = data.apply(lambda rw: isAction(rw['genres']),axis=1)\n",
    "\n",
    "series1 = pd.Series() # Инициализация серии для подсчета\n",
    "data[data.isAction==1].apply(lambda row: col_counter(row['director']) ,axis=1) # подсчет, только apply :(\n",
    "answers['14'] = get_first_frequant_data(True,False) # вывод ответа\n"
   ]
  },
  {
   "cell_type": "markdown",
   "metadata": {
    "colab_type": "text",
    "id": "PQ0KciD7Vp_f"
   },
   "source": [
    "# 15. Фильмы с каким актером принесли самые высокие кассовые сборы в 2012 году? "
   ]
  },
  {
   "cell_type": "code",
   "execution_count": 22,
   "metadata": {
    "colab": {},
    "colab_type": "code",
    "id": "aga62oeKVp_g"
   },
   "outputs": [
    {
     "name": "stderr",
     "output_type": "stream",
     "text": [
      "<ipython-input-22-745be87ae874>:2: DeprecationWarning: The default dtype for empty Series will be 'object' instead of 'float64' in a future version. Specify a dtype explicitly to silence this warning.\n",
      "  series1 = pd.Series() # Инициализация серии для подсчета\n"
     ]
    }
   ],
   "source": [
    "answers['15'] = 'Chris Hemsworth'\n",
    "series1 = pd.Series() # Инициализация серии для подсчета\n",
    "data[data.release_year==2012].apply(lambda row: col_summ(row['cast'],row['revenue']) ,axis=1) # подсчет, только apply :(\n",
    "answers['15'] = get_first_frequant_data(True,False) # вывод ответа\n",
    "\n"
   ]
  },
  {
   "cell_type": "markdown",
   "metadata": {
    "colab_type": "text",
    "id": "mWHyyL7QVp_j"
   },
   "source": [
    "# 16. Какой актер снялся в большем количестве высокобюджетных фильмов?"
   ]
  },
  {
   "cell_type": "code",
   "execution_count": 23,
   "metadata": {
    "colab": {},
    "colab_type": "code",
    "id": "qQtmHKTFVp_k"
   },
   "outputs": [
    {
     "name": "stderr",
     "output_type": "stream",
     "text": [
      "<ipython-input-23-958639c3800f>:2: DeprecationWarning: The default dtype for empty Series will be 'object' instead of 'float64' in a future version. Specify a dtype explicitly to silence this warning.\n",
      "  series1 = pd.Series() # Инициализация серии для подсчета\n"
     ]
    }
   ],
   "source": [
    "answers['16'] = 'Matt Damon'\n",
    "series1 = pd.Series() # Инициализация серии для подсчета\n",
    "data[data.budget>data.budget.mean()].apply(lambda row: col_counter(row['cast']) ,axis=1) # подсчет, только apply :(\n",
    "answers['16'] = get_first_frequant_data(True,False) # вывод ответа"
   ]
  },
  {
   "cell_type": "markdown",
   "metadata": {
    "colab_type": "text",
    "id": "NIh6AaW5Vp_n"
   },
   "source": [
    "# 17. В фильмах какого жанра больше всего снимался Nicolas Cage? "
   ]
  },
  {
   "cell_type": "code",
   "execution_count": 24,
   "metadata": {
    "colab": {},
    "colab_type": "code",
    "id": "H74SJDIBVp_n"
   },
   "outputs": [
    {
     "name": "stderr",
     "output_type": "stream",
     "text": [
      "<ipython-input-24-61825cd1bcd1>:9: DeprecationWarning: The default dtype for empty Series will be 'object' instead of 'float64' in a future version. Specify a dtype explicitly to silence this warning.\n",
      "  series1 = pd.Series() # Инициализация серии для подсчета\n"
     ]
    }
   ],
   "source": [
    "answers['17'] = 'Action'\n",
    "# Функция поиска в списке актера Кейджа\n",
    "def isCage (cast):\n",
    "    if genres.find('Nicolas Cage')!=-1:\n",
    "        return int(1)\n",
    "    else:\n",
    "        return int(0)\n",
    "# добавление столбца для фильтрации\n",
    "data['xCage'] = data.apply(lambda rw: isAction(rw['genres']),axis=1)\n",
    " \n",
    "series1 = pd.Series() # Инициализация серии для подсчета\n",
    "data[data.xCage==1].apply(lambda row: col_counter(row['genres']) ,axis=1) # подсчет, только apply :(\n",
    "answers['17'] = get_first_frequant_data(True,False) # вывод ответа"
   ]
  },
  {
   "cell_type": "markdown",
   "metadata": {
    "colab_type": "text",
    "id": "RqOmPRfWVp_q"
   },
   "source": [
    "# 18. Самый убыточный фильм от Paramount Pictures"
   ]
  },
  {
   "cell_type": "code",
   "execution_count": 25,
   "metadata": {
    "colab": {},
    "colab_type": "code",
    "id": "9E_B0Y96Vp_r"
   },
   "outputs": [
    {
     "name": "stderr",
     "output_type": "stream",
     "text": [
      "<ipython-input-25-de4344cfb939>:8: DeprecationWarning: The default dtype for empty Series will be 'object' instead of 'float64' in a future version. Specify a dtype explicitly to silence this warning.\n",
      "  series1 = pd.Series() # Инициализация серии для подсчета\n"
     ]
    }
   ],
   "source": [
    "answers['18'] = 'K-19: The Widowmaker (tt0267626)'\n",
    "# функция поиска кинокомпании Парамоунт \n",
    "def isParamount (pp):\n",
    "    if pp.find('Paramount Pictures')!=-1:\n",
    "        return int(1)\n",
    "    else:\n",
    "        return int(0)\n",
    "# добавление столбца для фильтрации\n",
    "data['xParamount'] = data.apply(lambda rw: isParamount(rw['production_companies']),axis=1)\n",
    "\n",
    "series1 = pd.Series() # Инициализация серии для подсчета\n",
    "data[data.xParamount==1].apply(lambda row: col_summ(row['original_title'],row['profit']) ,axis=1) # подсчет, только apply :(\n",
    "answers['18'] = get_first_frequant_data(False,False) # вывод ответа"
   ]
  },
  {
   "cell_type": "markdown",
   "metadata": {
    "colab_type": "text",
    "id": "vS8Ur6ddVp_u"
   },
   "source": [
    "# 19. Какой год стал самым успешным по суммарным кассовым сборам?"
   ]
  },
  {
   "cell_type": "code",
   "execution_count": 26,
   "metadata": {
    "colab": {},
    "colab_type": "code",
    "id": "Dnbt4GdIVp_v"
   },
   "outputs": [],
   "source": [
    "answers['19'] = 2015\n",
    "answers['19'] = data.groupby('release_year').sum().revenue.sort_values(ascending=False).index[0]"
   ]
  },
  {
   "cell_type": "markdown",
   "metadata": {
    "colab_type": "text",
    "id": "JAzJh4QAVp_z"
   },
   "source": [
    "# 20. Какой самый прибыльный год для студии Warner Bros?"
   ]
  },
  {
   "cell_type": "code",
   "execution_count": 27,
   "metadata": {
    "colab": {},
    "colab_type": "code",
    "id": "wgVu02DEVp_0"
   },
   "outputs": [],
   "source": [
    "answers['20'] = 2014\n",
    "# функция поиска студнии WB\n",
    "def isWB (pp):\n",
    "    if pp.find('Warner Bros')!=-1:\n",
    "        return int(1)\n",
    "    else:\n",
    "        return int(0)\n",
    "# добавление столбца для фильтрации\n",
    "data['xWB'] = data.apply(lambda rw: isWB(rw['production_companies']),axis=1)\n",
    "answers['20'] = data[data.xWB==1].groupby('release_year').sum().profit.sort_values(ascending=False).index[0]"
   ]
  },
  {
   "cell_type": "markdown",
   "metadata": {
    "colab_type": "text",
    "id": "8Im1S2HRVp_4"
   },
   "source": [
    "# 21. В каком месяце за все годы суммарно вышло больше всего фильмов?"
   ]
  },
  {
   "cell_type": "code",
   "execution_count": 28,
   "metadata": {
    "colab": {},
    "colab_type": "code",
    "id": "lev6TH7gVp_4"
   },
   "outputs": [
    {
     "data": {
      "text/plain": [
       "9"
      ]
     },
     "execution_count": 28,
     "metadata": {},
     "output_type": "execute_result"
    }
   ],
   "source": [
    "answers['21'] = 'Сентябрь'\n",
    "# создание столбца для выделения месяца выпуска\n",
    "data['release_month'] = int(0)\n",
    "# функция поиска месяца\n",
    "def getMonth(date1):\n",
    "    return dt.datetime.strptime(date1,'%m/%d/%Y').month\n",
    "# заполнение столбца\n",
    "data['release_month']=data.apply(lambda s: getMonth (s['release_date']), axis=1)\n",
    "# группировка, сортировка\n",
    "data.groupby('release_month').count().sort_values(by='imdb_id',ascending=False).index[0]"
   ]
  },
  {
   "cell_type": "markdown",
   "metadata": {
    "colab_type": "text",
    "id": "uAJsZ_NeVp_7"
   },
   "source": [
    "# 22. Сколько суммарно вышло фильмов летом? (за июнь, июль, август)"
   ]
  },
  {
   "cell_type": "code",
   "execution_count": 29,
   "metadata": {
    "colab": {},
    "colab_type": "code",
    "id": "Aa-hEREoVp_8"
   },
   "outputs": [
    {
     "data": {
      "text/plain": [
       "450"
      ]
     },
     "execution_count": 29,
     "metadata": {},
     "output_type": "execute_result"
    }
   ],
   "source": [
    "answers['22'] = 450\n",
    "data.query('release_month>=6 & release_month<=8').count().iloc[0]"
   ]
  },
  {
   "cell_type": "markdown",
   "metadata": {
    "colab_type": "text",
    "id": "G94ppOY1VqAA"
   },
   "source": [
    "# 23. Для какого режиссера зима – самое продуктивное время года? "
   ]
  },
  {
   "cell_type": "code",
   "execution_count": 30,
   "metadata": {
    "colab": {},
    "colab_type": "code",
    "id": "RhNTsamuVqAB"
   },
   "outputs": [
    {
     "name": "stderr",
     "output_type": "stream",
     "text": [
      "<ipython-input-30-f20e6d3c2c79>:2: DeprecationWarning: The default dtype for empty Series will be 'object' instead of 'float64' in a future version. Specify a dtype explicitly to silence this warning.\n",
      "  series1 = pd.Series() # Инициализация серии для подсчета\n"
     ]
    }
   ],
   "source": [
    "answers['23'] = 'Peter Jackson'\n",
    "series1 = pd.Series() # Инициализация серии для подсчета\n",
    "# дополнительный дф для фильтрации, но можно было и без него\n",
    "df1 = data.query('release_month==12 | release_month<3')\n",
    "df1.apply(lambda row: col_counter(row['director']) ,axis=1) # подсчет, только apply :(\n",
    "answers['23'] = get_first_frequant_data(True,False) # вывод ответа"
   ]
  },
  {
   "cell_type": "markdown",
   "metadata": {
    "colab_type": "text",
    "id": "RBo0JVjVVqAF"
   },
   "source": [
    "# 24. Какая студия дает самые длинные названия своим фильмам по количеству символов?"
   ]
  },
  {
   "cell_type": "code",
   "execution_count": 45,
   "metadata": {
    "colab": {},
    "colab_type": "code",
    "id": "QRGS8L0iVqAG"
   },
   "outputs": [
    {
     "name": "stderr",
     "output_type": "stream",
     "text": [
      "<ipython-input-45-e158f27421dd>:3: DeprecationWarning: The default dtype for empty Series will be 'object' instead of 'float64' in a future version. Specify a dtype explicitly to silence this warning.\n",
      "  series1 = pd.Series() # Инициализация серии для подсчета\n",
      "<ipython-input-45-e158f27421dd>:8: DeprecationWarning: The default dtype for empty Series will be 'object' instead of 'float64' in a future version. Specify a dtype explicitly to silence this warning.\n",
      "  series1 = pd.Series() # Инициализация серии для подсчета\n"
     ]
    }
   ],
   "source": [
    "answers['24'] = 'Four By Two Productions'\n",
    "# вычисляем количество фильмов каждой студии\n",
    "series1 = pd.Series() # Инициализация серии для подсчета\n",
    "data.apply(lambda row: col_counter(row['production_companies']) ,axis=1) # подсчет, только apply :(\n",
    "# запоминаем в доп.серии количество фильмов\n",
    "series2 = series1.copy()\n",
    "# вычисляем сколько символов в сумме дала каждая кинокомпания\n",
    "series1 = pd.Series() # Инициализация серии для подсчета\n",
    "data.apply(lambda row: col_summ(row['production_companies'],len(str(row['original_title']))) ,axis=1) # подсчет, только apply :(\n",
    "# создаем датафрейм для подсчета суммарного количества символов\n",
    "df_prod_companies = pd.DataFrame ({'company': series1.index, 'symb': series1.values})\n",
    "# создаем датафрейм для подсчета суммарного фильмов\n",
    "df2 =  pd.DataFrame ({'company': series2.index, 'movies': series2.values})\n",
    "# создаем общий с объединением по компании\n",
    "df3 = df_prod_companies.merge (df2,on='company',how='inner')\n",
    "# вычисление среднего\n",
    "df3['avg_symb'] = df3.symb/df3.movies\n",
    "# сортировка\n",
    "df3.sort_values('avg_symb',ascending=False,inplace=True)\n",
    "answers['24'] = df3.iloc[0].company"
   ]
  },
  {
   "cell_type": "markdown",
   "metadata": {
    "colab_type": "text",
    "id": "9G0hbvR7VqAK"
   },
   "source": [
    "# 25. Описание фильмов какой студии в среднем самые длинные по количеству слов?"
   ]
  },
  {
   "cell_type": "code",
   "execution_count": 46,
   "metadata": {
    "colab": {},
    "colab_type": "code",
    "id": "Ge2GsLNxVqAK"
   },
   "outputs": [
    {
     "name": "stderr",
     "output_type": "stream",
     "text": [
      "<ipython-input-46-a0420908dd09>:4: DeprecationWarning: The default dtype for empty Series will be 'object' instead of 'float64' in a future version. Specify a dtype explicitly to silence this warning.\n",
      "  series1 = pd.Series() # Инициализация серии для подсчета\n",
      "<ipython-input-46-a0420908dd09>:9: DeprecationWarning: The default dtype for empty Series will be 'object' instead of 'float64' in a future version. Specify a dtype explicitly to silence this warning.\n",
      "  series1 = pd.Series() # Инициализация серии для подсчета\n"
     ]
    }
   ],
   "source": [
    "answers['25'] = 'Midnight Picture Show'\n",
    "data['ov_len'] = data.apply (lambda row: len(str(row['overview']).split()), axis=1)\n",
    "# вычисляем количество фильмов каждой студии\n",
    "series1 = pd.Series() # Инициализация серии для подсчета\n",
    "data.apply(lambda row: col_counter(row['production_companies']) ,axis=1) # подсчет, только apply :(\n",
    "# запоминаем в доп.серии количество фильмов\n",
    "series2 = series1.copy()\n",
    "# вычисляем суммарное количество слов описаний фильмов в каждой студии\n",
    "series1 = pd.Series() # Инициализация серии для подсчета\n",
    "data.apply(lambda row: col_summ(row['production_companies'],len(str(row['overview']).split())) ,axis=1) # подсчет, только apply :(\n",
    "# создаем датафрейм для подсчета суммарного количества символов\n",
    "df_prod_companies = pd.DataFrame ({'company': series1.index, 'words': series1.values})\n",
    "# создаем датафрейм для подсчета суммарного фильмов\n",
    "df2 =  pd.DataFrame ({'company': series2.index, 'movies': series2.values})\n",
    "# создаем общий с объединением по компании\n",
    "df3 = df_prod_companies.merge (df2,on='company',how='inner')\n",
    "# вычисление среднего\n",
    "df3['avg_words'] = df3.words/df3.movies\n",
    "# сортировка\n",
    "df3.sort_values('avg_words',ascending=False,inplace=True)\n",
    "answers['25'] = df3.iloc[0].company"
   ]
  },
  {
   "cell_type": "markdown",
   "metadata": {
    "colab_type": "text",
    "id": "FJ1AFt90VqAP"
   },
   "source": [
    "# 26. Какие фильмы входят в 1 процент лучших по рейтингу? \n",
    "по vote_average"
   ]
  },
  {
   "cell_type": "code",
   "execution_count": 33,
   "metadata": {
    "colab": {},
    "colab_type": "code",
    "id": "8qmJVq4CVqAQ"
   },
   "outputs": [],
   "source": [
    "# вычисление количества фильмов соответствующее 1% всех фильмов\n",
    "total_movies_1perc=int(data.count().imdb_id/100)\n",
    "# сортировка и вывод 1% датафрейма (затем ищем среди первых)\n",
    "answers['26'] = data.sort_values('vote_average',ascending=False).original_title.\\\n",
    "                    head(total_movies_1perc)"
   ]
  },
  {
   "cell_type": "markdown",
   "metadata": {
    "colab_type": "text",
    "id": "MdXsUXbCVqAV"
   },
   "source": [
    "# 27. Какие актеры чаще всего снимаются в одном фильме вместе?\n"
   ]
  },
  {
   "cell_type": "code",
   "execution_count": 34,
   "metadata": {
    "colab_type": "text",
    "id": "4ymnxEVoVqAW"
   },
   "outputs": [
    {
     "data": {
      "text/plain": [
       "Daniel Radcliffe|Emma Watson        16\n",
       "Daniel Radcliffe|Rupert Grint       16\n",
       "Rupert Grint|Emma Watson            16\n",
       "Ben Stiller|Owen Wilson             12\n",
       "Johnny Depp|Helena Bonham Carter    12\n",
       "                                    ..\n",
       "Tom Hanks|Paul Giamatti              2\n",
       "Emma Thompson|Ruth Wilson            2\n",
       "Emma Thompson|Colin Farrell          2\n",
       "Emma Thompson|Paul Giamatti          2\n",
       "Chris Pratt|Bryce Dallas Howard      2\n",
       "Length: 17942, dtype: int64"
      ]
     },
     "metadata": {},
     "output_type": "display_data"
    }
   ],
   "source": [
    "# сбор списка актеров\n",
    "answers ['27'] = 'Daniel Radcliffe|Rupert Grint'\n",
    "cross_dic = {} # словарь для накопления информации о попарных совместных сьемках\n",
    "# функция добавляющая попарные совпадения в словарь, либо увеличивющая значения если\n",
    "# такое совпадение уже есть\n",
    "def collect_cross_dic (act1,act2):\n",
    "    if ((str(act1)+'|'+str(act2)) in cross_dic):\n",
    "        cross_dic[str(act1)+'|'+str(act2)] += 1\n",
    "    else:\n",
    "        if ((str(act2)+'|'+str(act1)) in cross_dic):\n",
    "            cross_dic[str(act2)+'|'+str(act1)] += 1\n",
    "        else:\n",
    "            cross_dic[str(act1)+'|'+str(act2)] = int(1)\n",
    "# функция перебирающая все вариации актеров в фильме и записывающая их попарно в словарь\n",
    "def store_cmdata (cast):\n",
    "    actors = cast.split('|')\n",
    "    if len(actors)>1:\n",
    "        for act1 in actors:\n",
    "            for act2 in actors:\n",
    "                if act1!=act2:\n",
    "                    collect_cross_dic (act1,act2)\n",
    "# проход по всем фильмам и вызов функции записи попарного участия актеров\n",
    "data.apply(lambda row: store_cmdata(row['cast']),axis=1)\n",
    "# сортировка по серии попарного участия\n",
    "s  = pd.Series(cross_dic,index=cross_dic.keys()).sort_values(ascending=False)\n",
    "display (s) # смотрим пары"
   ]
  },
  {
   "cell_type": "markdown",
   "metadata": {
    "colab_type": "text",
    "id": "U0nONFnGVqAX"
   },
   "source": [
    "# Submission"
   ]
  },
  {
   "cell_type": "code",
   "execution_count": 47,
   "metadata": {
    "colab": {},
    "colab_type": "code",
    "id": "IfcaRO9-VqAX",
    "outputId": "0f132912-32bb-4196-c98c-abfbc4ad5a5f"
   },
   "outputs": [
    {
     "data": {
      "text/plain": [
       "{'1': 'Pirates of the Caribbean: On Stranger Tides (tt1298650)',\n",
       " '2': 'Gods and Generals (tt0279111)',\n",
       " '3': 'Winnie the Pooh (tt1449283)',\n",
       " '4': '110',\n",
       " '5': '107.0',\n",
       " '6': 'Avatar (tt0499549)',\n",
       " '7': 'The Lone Ranger (tt1210819)',\n",
       " '8': '1478',\n",
       " '9': 'The Dark Knight (tt0468569)',\n",
       " '10': 'The Lone Ranger (tt1210819)',\n",
       " '11': 'Drama',\n",
       " '12': 'Drama',\n",
       " '13': 'Peter Jackson',\n",
       " '14': 'Robert Rodriguez',\n",
       " '15': 'Chris Hemsworth',\n",
       " '16': 'Matt Damon',\n",
       " '17': 'Action',\n",
       " '18': 'K-19: The Widowmaker',\n",
       " '19': 2015,\n",
       " '20': 2014,\n",
       " '21': 'Сентябрь',\n",
       " '22': 450,\n",
       " '23': 'Peter Jackson',\n",
       " '24': 'Four By Two Productions',\n",
       " '25': 'Midnight Picture Show',\n",
       " '26': 599                                   The Dark Knight\n",
       " 118                                      Interstellar\n",
       " 125                                The Imitation Game\n",
       " 9                                          Inside Out\n",
       " 34                                               Room\n",
       " 1183                          The Wolf of Wall Street\n",
       " 128                                         Gone Girl\n",
       " 1191                                 12 Years a Slave\n",
       " 119                           Guardians of the Galaxy\n",
       " 1081    The Lord of the Rings: The Return of the King\n",
       " 1800                                          Memento\n",
       " 370                                         Inception\n",
       " 872                                       The Pianist\n",
       " 138                          The Grand Budapest Hotel\n",
       " 1188                                              Her\n",
       " 28                                          Spotlight\n",
       " 124                                        Big Hero 6\n",
       " 177                            The Fault in Our Stars\n",
       " Name: original_title, dtype: object}"
      ]
     },
     "execution_count": 47,
     "metadata": {},
     "output_type": "execute_result"
    }
   ],
   "source": [
    "# в конце можно посмотреть свои ответы к каждому вопросу\n",
    "answers"
   ]
  },
  {
   "cell_type": "code",
   "execution_count": 36,
   "metadata": {
    "colab": {},
    "colab_type": "code",
    "id": "SiRmHPl8VqAd"
   },
   "outputs": [
    {
     "data": {
      "text/plain": [
       "26"
      ]
     },
     "execution_count": 36,
     "metadata": {},
     "output_type": "execute_result"
    }
   ],
   "source": [
    "# и убедиться что ни чего не пропустил)\n",
    "len(answers)"
   ]
  },
  {
   "cell_type": "code",
   "execution_count": null,
   "metadata": {
    "colab": {},
    "colab_type": "code",
    "id": "uCfuTkRbVqAg"
   },
   "outputs": [],
   "source": []
  },
  {
   "cell_type": "code",
   "execution_count": null,
   "metadata": {
    "colab": {},
    "colab_type": "code",
    "id": "Vwx3NrkSVqAl"
   },
   "outputs": [],
   "source": []
  }
 ],
 "metadata": {
  "colab": {
   "name": "Copy of [SF-DST] Movies IMBD v4.1 TEMPLATE.ipynb",
   "provenance": []
  },
  "kernelspec": {
   "display_name": "Python 3",
   "language": "python",
   "name": "python3"
  },
  "language_info": {
   "codemirror_mode": {
    "name": "ipython",
    "version": 3
   },
   "file_extension": ".py",
   "mimetype": "text/x-python",
   "name": "python",
   "nbconvert_exporter": "python",
   "pygments_lexer": "ipython3",
   "version": "3.8.3"
  }
 },
 "nbformat": 4,
 "nbformat_minor": 1
}
