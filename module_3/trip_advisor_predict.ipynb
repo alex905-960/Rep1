{
 "cells": [
  {
   "cell_type": "markdown",
   "metadata": {},
   "source": [
    "Predict TripAdvisor Rating\n",
    "\n",
    "Данный код готовит данные для предсказания рейтинга ресторана\n",
    "\n",
    "#### ВНИМАНИЕ, на слабых машинах - не запускать, придется ждать"
   ]
  },
  {
   "cell_type": "code",
   "execution_count": 1,
   "metadata": {},
   "outputs": [],
   "source": [
    "# Импорт\n",
    "import numpy as np # linear algebra\n",
    "import pandas as pd # data processing, CSV file I/O (e.g. pd.read_csv)\n",
    "from datetime import datetime as dtt\n",
    "import matplotlib.pyplot as plt\n",
    "import seaborn as sns \n",
    "%matplotlib inline\n",
    "from sklearn.ensemble import RandomForestRegressor # инструмент для создания \n",
    "                                                    # и обучения модели\n",
    "from sklearn import metrics # инструменты для оценки точности модели\n",
    "\n",
    "# Загружаем специальный удобный инструмент для разделения датасета:\n",
    "from sklearn.model_selection import train_test_split"
   ]
  },
  {
   "cell_type": "code",
   "execution_count": 2,
   "metadata": {},
   "outputs": [],
   "source": [
    "# фиксируем RANDOM_SEED, чтобы ваши эксперименты были воспроизводимы\n",
    "RANDOM_SEED = 44"
   ]
  },
  {
   "cell_type": "code",
   "execution_count": 3,
   "metadata": {},
   "outputs": [],
   "source": [
    "# зафиксируем версию пакетов, чтобы эксперименты были воспроизводимы:\n",
    "!pip freeze > requirements.txt"
   ]
  },
  {
   "cell_type": "code",
   "execution_count": 4,
   "metadata": {},
   "outputs": [
    {
     "name": "stderr",
     "output_type": "stream",
     "text": [
      "/home/olya/anaconda3/lib/python3.7/site-packages/IPython/core/interactiveshell.py:3063: DtypeWarning: Columns (3) have mixed types.Specify dtype option on import or set low_memory=False.\n",
      "  interactivity=interactivity, compiler=compiler, result=result)\n"
     ]
    }
   ],
   "source": [
    "# загрузка основных и дополнительных данных\n",
    "df_train = pd.read_csv('main_task.csv') #тренировочные данные\n",
    "df_test = pd.read_csv('kaggle_task.csv') #данные для теста\n",
    "# данные о населении  местоположении городов\n",
    "df_city = pd.read_csv('worldcitiespop.csv') \n",
    "\n",
    "# объединение тестовой и тренировочной выборки\n",
    "df_train['sample'] = 1 # помечаем где у нас трейн\n",
    "df_test['sample'] = 0 # помечаем где у нас тест\n",
    "df_test['Rating'] = 0 # в тесте у нас нет значения Rating,\n",
    "# мы его должны предсказать, по этому пока просто заполняем 0\n",
    "df_output = df_test.append(df_train, sort=False).reset_index(drop=True)\n"
   ]
  },
  {
   "cell_type": "markdown",
   "metadata": {},
   "source": [
    "### Описание признаков в основном датасете\n",
    "\n",
    "City: Город\n",
    "Cuisine Style: Кухня\n",
    "Ranking: Ранг ресторана относительно других ресторанов в этом городе\n",
    "Price Range: Цены в ресторане в 3 категориях\n",
    "Number of Reviews: Количество отзывов\n",
    "Reviews: 2 последних отзыва и даты этих отзывов\n",
    "URL_TA: страница ресторана на 'www.tripadvisor.com'\n",
    "ID_TA: ID ресторана в TripAdvisor\n",
    "Rating: Рейтинг ресторана\n",
    "\n",
    "### Описание признаков в дополнительном датасете\n",
    "\n",
    "Country: страна \n",
    "City: название населенного пункта(НП) \n",
    "AccentCity: Доп.название НП \n",
    "Region: Код региона \n",
    "Population: Численность населения \n",
    "Latitude, Longitude: GPS-координаты центра НП \n"
   ]
  },
  {
   "cell_type": "markdown",
   "metadata": {},
   "source": [
    "### Визуальный осмотр"
   ]
  },
  {
   "cell_type": "code",
   "execution_count": 5,
   "metadata": {},
   "outputs": [
    {
     "data": {
      "image/png": "[encoded data removed]",
      "text/plain": [
       "<Figure size 432x288 with 1 Axes>"
      ]
     },
     "metadata": {
      "needs_background": "light"
     },
     "output_type": "display_data"
    }
   ],
   "source": [
    "for x in (df_train['City'].value_counts())[0:10].index:\n",
    "    df_train['Ranking'][df_train['City'] == x].hist(bins=100)\n",
    "plt.show()\n",
    "# Поле Ranking распределено нормально, но зависит от населения,\n",
    "# поэтому это значение лучше поделить на население города"
   ]
  },
  {
   "cell_type": "markdown",
   "metadata": {},
   "source": [
    "### Очистка данных"
   ]
  },
  {
   "cell_type": "code",
   "execution_count": 6,
   "metadata": {},
   "outputs": [
    {
     "name": "stdout",
     "output_type": "stream",
     "text": [
      "<class 'pandas.core.frame.DataFrame'>\n",
      "RangeIndex: 3173958 entries, 0 to 3173957\n",
      "Data columns (total 4 columns):\n",
      " #   Column      Dtype  \n",
      "---  ------      -----  \n",
      " 0   City        object \n",
      " 1   Population  float64\n",
      " 2   Latitude    float64\n",
      " 3   Longitude   float64\n",
      "dtypes: float64(3), object(1)\n",
      "memory usage: 96.9+ MB\n"
     ]
    }
   ],
   "source": [
    "# Удаляем лишние поля из датасетов/или оставляем только нужные\n",
    "df_city = df_city[['City','Population','Latitude','Longitude']]\n",
    "df_output.drop(['Restaurant_id','ID_TA','URL_TA'], axis = 1, inplace=True)\n",
    "df_city.info()"
   ]
  },
  {
   "cell_type": "markdown",
   "metadata": {},
   "source": [
    "### Работа с пустыми значениями NaN/Null"
   ]
  },
  {
   "cell_type": "code",
   "execution_count": 7,
   "metadata": {},
   "outputs": [],
   "source": [
    "# создаем признак отсутствия данных в количестве отзывов\n",
    "df_output['Number_of_Reviews_isNAN'] = pd.isna(df_output['Number of Reviews']\n",
    "                                              ).astype('uint8')\n",
    "# заполняем общим усреднением\n",
    "df_output['Number of Reviews'] = (df_output['Number of Reviews'].\n",
    "                           fillna(df_output['Number of Reviews'].mean()))\n",
    "# заполняем такой строкой, какая стоит у строк без отзывов\n",
    "df_output['Reviews'] = df_output['Reviews'].fillna('[[], []]')\n",
    "# применяем вид кухни - \"другая\"\n",
    "df_output['Cuisine Style'] = df_output['Cuisine Style'].fillna('Other')\n",
    "df_output['Price Range'] = df_output['Price Range'].fillna('NoPrice')\n",
    "# удаляем города, где начеление менее 1000 и те, где нет данных о населении\n",
    "df_city = df_city.dropna(axis=0)\n",
    "df_city = df_city[df_city.Population>1000].groupby('City').max().reset_index()\n",
    "# приведение города к нижнему регистру для будущего join с основным ДС\n",
    "df_city.City = df_city.City.apply(lambda s: s.lower()) \n",
    "# приведение города в основном ДС к нижнему регистру\n",
    "df_output.City = df_output.City.apply(lambda s: s.lower()) "
   ]
  },
  {
   "cell_type": "markdown",
   "metadata": {},
   "source": [
    "### кодирование нечисловых признаков"
   ]
  },
  {
   "cell_type": "code",
   "execution_count": 8,
   "metadata": {},
   "outputs": [],
   "source": [
    "# города кодируем классически через dummy, создаем бинарные признаки\n",
    "data1 = pd.get_dummies(df_output.City,prefix='city')\n",
    "df_output = pd.concat([df_output,data1],axis=1)\n",
    "\n",
    "# Price Range нельзя кодировать 0 1 2, так как мы не знаем, какой диапазон\n",
    "# цен подразуменвается под $, $$-$$$ и т.д., и на сколько одни цены выше других\n",
    "data1 = pd.get_dummies(df_output.City,prefix='Price Range')\n",
    "df_output = pd.concat([df_output,data1],axis=1)\n",
    "\n",
    "# Функция деления списка кухонь, возвращает список видов кухонь\n",
    "def get_list_from_cuisines (s):\n",
    "    lst = []\n",
    "    for cuisine_list in s:\n",
    "        c_list = cuisine_list.split(',')\n",
    "        for item in c_list:\n",
    "            item = item.strip()\n",
    "            if not item in lst:\n",
    "                lst.append(item)\n",
    "    return lst\n",
    "\n",
    "# кодирование списка кухонь\n",
    "# Разделение с созданием отдельных признаков для кухонь\n",
    "df_output['Cuisine Style'] = df_output['Cuisine Style'].apply(lambda s:\n",
    "                        str(s)[1:-1].strip())\n",
    "df_output['Cuisine Style'] = df_output['Cuisine Style'].apply(lambda s:\n",
    "                        \"'Other'\" if s=='a' else s)\n",
    "df_output['Cuisine Style'] = df_output['Cuisine Style'].apply(lambda s: s.replace(\"'\",\"\"))\n",
    "\n",
    "# Создание списка кухней \n",
    "cuisine_list = get_list_from_cuisines(pd.Series(df_output['Cuisine Style'].unique()))\n",
    "for cuisine in cuisine_list:\n",
    "    df_output['cuisine_'+cuisine] = 0\n",
    "    \n",
    "# Заполнение признаков\n",
    "cnt=0\n",
    "cuisine_styles = pd.Series(df_output['Cuisine Style'].unique())\n",
    "for style_set in cuisine_styles:\n",
    "    lst = list(map(lambda s: s.strip(),style_set.split(',')))\n",
    "    cnt +=1\n",
    "    for i in lst:\n",
    "        df_output.loc[df_output['Cuisine Style']==style_set.strip(),\n",
    "                      'cuisine_'+i] = 1    \n",
    "\n",
    "# Получение даты отзывов и перевод ее в Timestamp, так как нам нужно число\n",
    "df_output['tmp_col0'] = None\n",
    "df_output['tmp_col0'] = df_output['Reviews'].apply(lambda s: \n",
    "    [element.strip(\"'[]\") for element in s.split(\", \")][-1]) \n",
    "df_output['time_review'] = df_output['tmp_col0'].apply (lambda s: \n",
    "    dtt.strptime(s,'%m/%d/%Y').timestamp() if len(s)==10 else None)\n",
    "df_output['time_review'] = df_output['time_review'].fillna(\n",
    "    df_output['time_review'].mean()) #заполнение средней датой"
   ]
  },
  {
   "cell_type": "markdown",
   "metadata": {},
   "source": [
    "### Создание новых признаков"
   ]
  },
  {
   "cell_type": "code",
   "execution_count": 9,
   "metadata": {},
   "outputs": [
    {
     "name": "stderr",
     "output_type": "stream",
     "text": [
      "/home/olya/anaconda3/lib/python3.7/site-packages/pandas/core/indexing.py:670: SettingWithCopyWarning: \n",
      "A value is trying to be set on a copy of a slice from a DataFrame\n",
      "\n",
      "See the caveats in the documentation: https://pandas.pydata.org/pandas-docs/stable/user_guide/indexing.html#returning-a-view-versus-a-copy\n",
      "  self._setitem_with_indexer(indexer, value)\n"
     ]
    }
   ],
   "source": [
    "# Создание признака количества видов кухонь в ресторяне\n",
    "df_output['Total Cuisines'] = 0\n",
    "df_output['Total Cuisines'] = df_output['Cuisine Style'].apply(\n",
    "    lambda s: 1+s.count(','))\n",
    "\n",
    "#  длина отзывов\n",
    "df_output['review_length']= df_output['Reviews'].apply(lambda s: len(s))\n",
    "\n",
    "# Анализ содержимого текста отзывов\n",
    "dt1 = pd.DataFrame(columns=['counter'])\n",
    "for i in range(0,len(df_output)-1):\n",
    "    rw = df_output['Reviews'].iloc[i].replace('[','').replace(']','').replace(',','').replace(\"'\",'').lower()\n",
    "    if len(rw)>10:\n",
    "        lst_rw = rw.split()\n",
    "        for word in lst_rw[:-2]:\n",
    "            if len(word)>2:\n",
    "                if word in dt1.index:\n",
    "                    dt1.loc[word] += 1\n",
    "                else:\n",
    "                    dt1.loc[word] = 1\n",
    "#берем только частые слова и создаем столбцы c префиксом s для указания \n",
    "#наличия слов в отзыве\n",
    "dt1 = dt1[dt1.counter>100]\n",
    "for word in dt1.index:\n",
    "    df_output[word] = 0\n",
    "# заполняем столбцы\n",
    "for i in range(0,len(df_output)-1):\n",
    "    rw = df_output['Reviews'].iloc[i].replace('[','').replace(']',\n",
    "                                '').replace(',','').replace(\"'\",'').lower()\n",
    "    if len(rw)>10:\n",
    "        lst_rw = rw.split()\n",
    "        for word in lst_rw[:-2]:\n",
    "            if word in df_output.columns:\n",
    "                df_output[word].iloc[i] += 1 \n",
    "                \n",
    "# Добавление признака актуальности отзывов, количество/давность\n",
    "dt_review = df_output['time_review'].mean()\n",
    "now_unix = dtt.now().timestamp()\n",
    "df_output['rev_act'] = 86400*df_output['Number of Reviews']/((\n",
    "                now_unix - df_output['time_review']))\n",
    "   \n",
    "# Добавление численности населения городов и координат\n",
    "df_output = df_output.merge(df_city,left_on='City',\n",
    "                            right_on='City',how='left')\n",
    "df_output.Population.fillna(df_output.Population.mean(),inplace=True)\n",
    "df_output.Latitude.fillna(df_output.Latitude.mean(),inplace=True)\n",
    "df_output.Longitude.fillna(df_output.Longitude.mean(),inplace=True)\n",
    "# Относительное количество отзывов по городам отзывы/население\n",
    "df_output['Number of Reviews'] = (df_output['Number of Reviews']/\n",
    "                                  df_output.Population)\n",
    "\n",
    "# Корректировка признака Ranking\n",
    "df_output['Ranking'] = df_output['Ranking']/df_output.Population"
   ]
  },
  {
   "cell_type": "markdown",
   "metadata": {},
   "source": [
    "### Очистка от нечисловых столбцов"
   ]
  },
  {
   "cell_type": "code",
   "execution_count": 10,
   "metadata": {},
   "outputs": [],
   "source": [
    "df_output = df_output.drop(columns='Cuisine Style',axis=1)\n",
    "df_output = df_output.drop(columns='City',axis=1)\n",
    "df_output = df_output.drop(columns='Price Range',axis=1)\n",
    "df_output = df_output.drop(columns='Reviews',axis=1)\n",
    "df_output = df_output.drop(columns='tmp_col0',axis=1)"
   ]
  },
  {
   "cell_type": "markdown",
   "metadata": {},
   "source": [
    "### Подготовка к тренировке сети"
   ]
  },
  {
   "cell_type": "code",
   "execution_count": 11,
   "metadata": {},
   "outputs": [
    {
     "data": {
      "text/html": [
       "<div>\n",
       "<style scoped>\n",
       "    .dataframe tbody tr th:only-of-type {\n",
       "        vertical-align: middle;\n",
       "    }\n",
       "\n",
       "    .dataframe tbody tr th {\n",
       "        vertical-align: top;\n",
       "    }\n",
       "\n",
       "    .dataframe thead th {\n",
       "        text-align: right;\n",
       "    }\n",
       "</style>\n",
       "<table border=\"1\" class=\"dataframe\">\n",
       "  <thead>\n",
       "    <tr style=\"text-align: right;\">\n",
       "      <th></th>\n",
       "      <th>Ranking</th>\n",
       "      <th>Number of Reviews</th>\n",
       "      <th>sample</th>\n",
       "      <th>Rating</th>\n",
       "      <th>Number_of_Reviews_isNAN</th>\n",
       "      <th>city_amsterdam</th>\n",
       "      <th>city_athens</th>\n",
       "      <th>city_barcelona</th>\n",
       "      <th>city_berlin</th>\n",
       "      <th>city_bratislava</th>\n",
       "      <th>...</th>\n",
       "      <th>wow</th>\n",
       "      <th>sandwiches</th>\n",
       "      <th>long</th>\n",
       "      <th>years</th>\n",
       "      <th>fair</th>\n",
       "      <th>over</th>\n",
       "      <th>rev_act</th>\n",
       "      <th>Population</th>\n",
       "      <th>Latitude</th>\n",
       "      <th>Longitude</th>\n",
       "    </tr>\n",
       "  </thead>\n",
       "  <tbody>\n",
       "    <tr>\n",
       "      <th>17665</th>\n",
       "      <td>0.001160</td>\n",
       "      <td>7.931562e-05</td>\n",
       "      <td>1</td>\n",
       "      <td>5.0</td>\n",
       "      <td>1</td>\n",
       "      <td>0</td>\n",
       "      <td>0</td>\n",
       "      <td>0</td>\n",
       "      <td>0</td>\n",
       "      <td>0</td>\n",
       "      <td>...</td>\n",
       "      <td>0</td>\n",
       "      <td>0</td>\n",
       "      <td>0</td>\n",
       "      <td>0</td>\n",
       "      <td>0</td>\n",
       "      <td>0</td>\n",
       "      <td>0.085155</td>\n",
       "      <td>1569315.0</td>\n",
       "      <td>48.200000</td>\n",
       "      <td>16.366667</td>\n",
       "    </tr>\n",
       "    <tr>\n",
       "      <th>14053</th>\n",
       "      <td>0.001048</td>\n",
       "      <td>1.886480e-05</td>\n",
       "      <td>1</td>\n",
       "      <td>3.5</td>\n",
       "      <td>0</td>\n",
       "      <td>0</td>\n",
       "      <td>0</td>\n",
       "      <td>0</td>\n",
       "      <td>0</td>\n",
       "      <td>0</td>\n",
       "      <td>...</td>\n",
       "      <td>0</td>\n",
       "      <td>0</td>\n",
       "      <td>0</td>\n",
       "      <td>0</td>\n",
       "      <td>0</td>\n",
       "      <td>0</td>\n",
       "      <td>0.122792</td>\n",
       "      <td>7421228.0</td>\n",
       "      <td>51.514125</td>\n",
       "      <td>-0.093689</td>\n",
       "    </tr>\n",
       "    <tr>\n",
       "      <th>44480</th>\n",
       "      <td>0.004054</td>\n",
       "      <td>1.421333e-06</td>\n",
       "      <td>1</td>\n",
       "      <td>4.5</td>\n",
       "      <td>0</td>\n",
       "      <td>0</td>\n",
       "      <td>0</td>\n",
       "      <td>0</td>\n",
       "      <td>0</td>\n",
       "      <td>0</td>\n",
       "      <td>...</td>\n",
       "      <td>0</td>\n",
       "      <td>0</td>\n",
       "      <td>0</td>\n",
       "      <td>0</td>\n",
       "      <td>0</td>\n",
       "      <td>0</td>\n",
       "      <td>0.002052</td>\n",
       "      <td>2110694.0</td>\n",
       "      <td>48.866667</td>\n",
       "      <td>2.333333</td>\n",
       "    </tr>\n",
       "    <tr>\n",
       "      <th>22149</th>\n",
       "      <td>0.001600</td>\n",
       "      <td>6.064356e-05</td>\n",
       "      <td>1</td>\n",
       "      <td>4.5</td>\n",
       "      <td>0</td>\n",
       "      <td>0</td>\n",
       "      <td>0</td>\n",
       "      <td>0</td>\n",
       "      <td>0</td>\n",
       "      <td>0</td>\n",
       "      <td>...</td>\n",
       "      <td>0</td>\n",
       "      <td>0</td>\n",
       "      <td>0</td>\n",
       "      <td>0</td>\n",
       "      <td>0</td>\n",
       "      <td>0</td>\n",
       "      <td>0.090259</td>\n",
       "      <td>2110694.0</td>\n",
       "      <td>48.866667</td>\n",
       "      <td>2.333333</td>\n",
       "    </tr>\n",
       "    <tr>\n",
       "      <th>44061</th>\n",
       "      <td>0.001966</td>\n",
       "      <td>1.962666e-06</td>\n",
       "      <td>1</td>\n",
       "      <td>4.0</td>\n",
       "      <td>0</td>\n",
       "      <td>0</td>\n",
       "      <td>0</td>\n",
       "      <td>0</td>\n",
       "      <td>0</td>\n",
       "      <td>0</td>\n",
       "      <td>...</td>\n",
       "      <td>0</td>\n",
       "      <td>0</td>\n",
       "      <td>0</td>\n",
       "      <td>0</td>\n",
       "      <td>0</td>\n",
       "      <td>0</td>\n",
       "      <td>0.001368</td>\n",
       "      <td>1019022.0</td>\n",
       "      <td>50.833333</td>\n",
       "      <td>4.333333</td>\n",
       "    </tr>\n",
       "    <tr>\n",
       "      <th>32835</th>\n",
       "      <td>0.004178</td>\n",
       "      <td>1.337258e-05</td>\n",
       "      <td>1</td>\n",
       "      <td>4.0</td>\n",
       "      <td>0</td>\n",
       "      <td>0</td>\n",
       "      <td>0</td>\n",
       "      <td>1</td>\n",
       "      <td>0</td>\n",
       "      <td>0</td>\n",
       "      <td>...</td>\n",
       "      <td>0</td>\n",
       "      <td>0</td>\n",
       "      <td>0</td>\n",
       "      <td>0</td>\n",
       "      <td>0</td>\n",
       "      <td>0</td>\n",
       "      <td>0.015565</td>\n",
       "      <td>1570378.0</td>\n",
       "      <td>41.398371</td>\n",
       "      <td>126.434167</td>\n",
       "    </tr>\n",
       "    <tr>\n",
       "      <th>34861</th>\n",
       "      <td>0.000881</td>\n",
       "      <td>2.829720e-06</td>\n",
       "      <td>1</td>\n",
       "      <td>4.5</td>\n",
       "      <td>0</td>\n",
       "      <td>0</td>\n",
       "      <td>0</td>\n",
       "      <td>0</td>\n",
       "      <td>0</td>\n",
       "      <td>0</td>\n",
       "      <td>...</td>\n",
       "      <td>0</td>\n",
       "      <td>0</td>\n",
       "      <td>0</td>\n",
       "      <td>0</td>\n",
       "      <td>0</td>\n",
       "      <td>0</td>\n",
       "      <td>0.017454</td>\n",
       "      <td>7421228.0</td>\n",
       "      <td>51.514125</td>\n",
       "      <td>-0.093689</td>\n",
       "    </tr>\n",
       "    <tr>\n",
       "      <th>48199</th>\n",
       "      <td>0.003801</td>\n",
       "      <td>4.621806e-05</td>\n",
       "      <td>1</td>\n",
       "      <td>3.5</td>\n",
       "      <td>0</td>\n",
       "      <td>0</td>\n",
       "      <td>0</td>\n",
       "      <td>0</td>\n",
       "      <td>0</td>\n",
       "      <td>0</td>\n",
       "      <td>...</td>\n",
       "      <td>0</td>\n",
       "      <td>0</td>\n",
       "      <td>0</td>\n",
       "      <td>0</td>\n",
       "      <td>0</td>\n",
       "      <td>0</td>\n",
       "      <td>0.010184</td>\n",
       "      <td>346185.0</td>\n",
       "      <td>47.366667</td>\n",
       "      <td>8.550000</td>\n",
       "    </tr>\n",
       "    <tr>\n",
       "      <th>10016</th>\n",
       "      <td>0.001548</td>\n",
       "      <td>8.827782e-07</td>\n",
       "      <td>1</td>\n",
       "      <td>4.0</td>\n",
       "      <td>0</td>\n",
       "      <td>0</td>\n",
       "      <td>0</td>\n",
       "      <td>0</td>\n",
       "      <td>1</td>\n",
       "      <td>0</td>\n",
       "      <td>...</td>\n",
       "      <td>0</td>\n",
       "      <td>0</td>\n",
       "      <td>0</td>\n",
       "      <td>0</td>\n",
       "      <td>0</td>\n",
       "      <td>0</td>\n",
       "      <td>0.002180</td>\n",
       "      <td>3398362.0</td>\n",
       "      <td>52.516667</td>\n",
       "      <td>13.400000</td>\n",
       "    </tr>\n",
       "    <tr>\n",
       "      <th>26556</th>\n",
       "      <td>0.002649</td>\n",
       "      <td>3.595511e-04</td>\n",
       "      <td>1</td>\n",
       "      <td>5.0</td>\n",
       "      <td>1</td>\n",
       "      <td>0</td>\n",
       "      <td>0</td>\n",
       "      <td>0</td>\n",
       "      <td>0</td>\n",
       "      <td>0</td>\n",
       "      <td>...</td>\n",
       "      <td>0</td>\n",
       "      <td>0</td>\n",
       "      <td>0</td>\n",
       "      <td>0</td>\n",
       "      <td>0</td>\n",
       "      <td>0</td>\n",
       "      <td>0.085155</td>\n",
       "      <td>346185.0</td>\n",
       "      <td>47.366667</td>\n",
       "      <td>8.550000</td>\n",
       "    </tr>\n",
       "  </tbody>\n",
       "</table>\n",
       "<p>10 rows × 526 columns</p>\n",
       "</div>"
      ],
      "text/plain": [
       "        Ranking  Number of Reviews  sample  Rating  Number_of_Reviews_isNAN  \\\n",
       "17665  0.001160       7.931562e-05       1     5.0                        1   \n",
       "14053  0.001048       1.886480e-05       1     3.5                        0   \n",
       "44480  0.004054       1.421333e-06       1     4.5                        0   \n",
       "22149  0.001600       6.064356e-05       1     4.5                        0   \n",
       "44061  0.001966       1.962666e-06       1     4.0                        0   \n",
       "32835  0.004178       1.337258e-05       1     4.0                        0   \n",
       "34861  0.000881       2.829720e-06       1     4.5                        0   \n",
       "48199  0.003801       4.621806e-05       1     3.5                        0   \n",
       "10016  0.001548       8.827782e-07       1     4.0                        0   \n",
       "26556  0.002649       3.595511e-04       1     5.0                        1   \n",
       "\n",
       "       city_amsterdam  city_athens  city_barcelona  city_berlin  \\\n",
       "17665               0            0               0            0   \n",
       "14053               0            0               0            0   \n",
       "44480               0            0               0            0   \n",
       "22149               0            0               0            0   \n",
       "44061               0            0               0            0   \n",
       "32835               0            0               1            0   \n",
       "34861               0            0               0            0   \n",
       "48199               0            0               0            0   \n",
       "10016               0            0               0            1   \n",
       "26556               0            0               0            0   \n",
       "\n",
       "       city_bratislava  ...  wow  sandwiches  long  years  fair  over  \\\n",
       "17665                0  ...    0           0     0      0     0     0   \n",
       "14053                0  ...    0           0     0      0     0     0   \n",
       "44480                0  ...    0           0     0      0     0     0   \n",
       "22149                0  ...    0           0     0      0     0     0   \n",
       "44061                0  ...    0           0     0      0     0     0   \n",
       "32835                0  ...    0           0     0      0     0     0   \n",
       "34861                0  ...    0           0     0      0     0     0   \n",
       "48199                0  ...    0           0     0      0     0     0   \n",
       "10016                0  ...    0           0     0      0     0     0   \n",
       "26556                0  ...    0           0     0      0     0     0   \n",
       "\n",
       "        rev_act  Population   Latitude   Longitude  \n",
       "17665  0.085155   1569315.0  48.200000   16.366667  \n",
       "14053  0.122792   7421228.0  51.514125   -0.093689  \n",
       "44480  0.002052   2110694.0  48.866667    2.333333  \n",
       "22149  0.090259   2110694.0  48.866667    2.333333  \n",
       "44061  0.001368   1019022.0  50.833333    4.333333  \n",
       "32835  0.015565   1570378.0  41.398371  126.434167  \n",
       "34861  0.017454   7421228.0  51.514125   -0.093689  \n",
       "48199  0.010184    346185.0  47.366667    8.550000  \n",
       "10016  0.002180   3398362.0  52.516667   13.400000  \n",
       "26556  0.085155    346185.0  47.366667    8.550000  \n",
       "\n",
       "[10 rows x 526 columns]"
      ]
     },
     "execution_count": 11,
     "metadata": {},
     "output_type": "execute_result"
    }
   ],
   "source": [
    "df_output.sample(10)\n"
   ]
  },
  {
   "cell_type": "code",
   "execution_count": 12,
   "metadata": {},
   "outputs": [],
   "source": [
    "#  выделим тестовую часть\n",
    "train_data = df_output.query('sample == 1').drop(['sample'], axis=1)\n",
    "test_data = df_output.query('sample == 0').drop(['sample'], axis=1)\n",
    "\n",
    "y = train_data.Rating.values            # наш таргет\n",
    "X = train_data.drop(['Rating'], axis=1)"
   ]
  },
  {
   "cell_type": "code",
   "execution_count": 13,
   "metadata": {},
   "outputs": [],
   "source": [
    "# Воспользуемся специальной функцие train_test_split для разбивки данных\n",
    "# выделим 20% данных на валидацию (параметр test_size)\n",
    "X_train, X_test, y_train, y_test = train_test_split(X, y, test_size=0.2, \n",
    "                                                    random_state=RANDOM_SEED)"
   ]
  },
  {
   "cell_type": "code",
   "execution_count": 14,
   "metadata": {},
   "outputs": [
    {
     "data": {
      "text/plain": [
       "((10000, 525), (39999, 525), (39999, 524), (31999, 524), (8000, 524))"
      ]
     },
     "execution_count": 14,
     "metadata": {},
     "output_type": "execute_result"
    }
   ],
   "source": [
    "# проверяем\n",
    "test_data.shape, train_data.shape, X.shape, X_train.shape, X_test.shape"
   ]
  },
  {
   "cell_type": "markdown",
   "metadata": {},
   "source": [
    "### Model"
   ]
  },
  {
   "cell_type": "code",
   "execution_count": 15,
   "metadata": {},
   "outputs": [
    {
     "name": "stderr",
     "output_type": "stream",
     "text": [
      "[Parallel(n_jobs=-1)]: Using backend ThreadingBackend with 8 concurrent workers.\n",
      "[Parallel(n_jobs=-1)]: Done  34 tasks      | elapsed:   16.9s\n",
      "[Parallel(n_jobs=-1)]: Done 100 out of 100 | elapsed:   43.8s finished\n",
      "[Parallel(n_jobs=8)]: Using backend ThreadingBackend with 8 concurrent workers.\n",
      "[Parallel(n_jobs=8)]: Done  34 tasks      | elapsed:    0.0s\n",
      "[Parallel(n_jobs=8)]: Done 100 out of 100 | elapsed:    0.1s finished\n"
     ]
    }
   ],
   "source": [
    "# Создаём модель (НАСТРОЙКИ НЕ ТРОГАЕМ)\n",
    "model = RandomForestRegressor(n_estimators=100, verbose=1, n_jobs=-1,\n",
    "                              random_state=RANDOM_SEED)\n",
    "# Обучаем модель на тестовом наборе данных\n",
    "model.fit(X_train, y_train)\n",
    "\n",
    "# Используем обученную модель для предсказания рейтинга ресторанов в тестовой выборке.\n",
    "# Предсказанные значения записываем в переменную y_pred\n",
    "y_pred = model.predict(X_test)"
   ]
  },
  {
   "cell_type": "code",
   "execution_count": 16,
   "metadata": {},
   "outputs": [
    {
     "name": "stdout",
     "output_type": "stream",
     "text": [
      "MAE: 0.202485\n"
     ]
    }
   ],
   "source": [
    "# Сравниваем предсказанные значения (y_pred) с реальными (y_test), и смотрим насколько они в среднем отличаются\n",
    "# Метрика называется Mean Absolute Error (MAE) и показывает среднее отклонение предсказанных значений от фактических.\n",
    "print('MAE:', metrics.mean_absolute_error(y_test, y_pred))"
   ]
  },
  {
   "cell_type": "code",
   "execution_count": 17,
   "metadata": {},
   "outputs": [
    {
     "data": {
      "text/plain": [
       "<matplotlib.axes._subplots.AxesSubplot at 0x7efe57209a90>"
      ]
     },
     "execution_count": 17,
     "metadata": {},
     "output_type": "execute_result"
    },
    {
     "data": {
      "image/png": "[encoded data removed]",
      "text/plain": [
       "<Figure size 720x720 with 1 Axes>"
      ]
     },
     "metadata": {
      "needs_background": "light"
     },
     "output_type": "display_data"
    }
   ],
   "source": [
    "# выводим самые важные признаки для модели\n",
    "plt.rcParams['figure.figsize'] = (10,10)\n",
    "feat_importances = pd.Series(model.feature_importances_, index=X.columns)\n",
    "feat_importances.nlargest(15).plot(kind='barh')"
   ]
  }
 ],
 "metadata": {
  "kernelspec": {
   "display_name": "Python 3",
   "language": "python",
   "name": "python3"
  },
  "language_info": {
   "codemirror_mode": {
    "name": "ipython",
    "version": 3
   },
   "file_extension": ".py",
   "mimetype": "text/x-python",
   "name": "python",
   "nbconvert_exporter": "python",
   "pygments_lexer": "ipython3",
   "version": "3.7.6"
  }
 },
 "nbformat": 4,
 "nbformat_minor": 4
}
